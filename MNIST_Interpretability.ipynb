{
 "cells": [
  {
   "cell_type": "code",
   "execution_count": 1,
   "metadata": {},
   "outputs": [],
   "source": [
    "# fmt: off\n",
    "import numpy as np\n",
    "import matplotlib.pyplot as plt\n",
    "from InterpretabilityMethods import *\n",
    "from SequentialTask import *\n",
    "from EWCMethods import EWC_Method\n",
    "\n",
    "import os\n",
    "os.environ[\"TF_CPP_MIN_LOG_LEVEL\"] = \"3\"\n",
    "import tensorflow as tf\n",
    "# fmt: on"
   ]
  },
  {
   "cell_type": "code",
   "execution_count": 2,
   "metadata": {},
   "outputs": [],
   "source": [
    "MODEL_SAVE_PATH = \"models/mnist_intepretability_model\"\n",
    "TRAIN_MODEL = False\n",
    "LOAD_MODEL = True\n",
    "\n",
    "task_digit_labels = [0,1]\n",
    "epochs = 5\n",
    "training_batches = 300\n",
    "validation_batches = 100\n",
    "batch_size = 32\n",
    "ewc_method = EWC_Method.NONE"
   ]
  },
  {
   "cell_type": "code",
   "execution_count": 3,
   "metadata": {},
   "outputs": [
    {
     "name": "stdout",
     "output_type": "stream",
     "text": [
      "LOADING MODEL\n",
      "Model: \"model\"\n",
      "_________________________________________________________________\n",
      " Layer (type)                Output Shape              Param #   \n",
      "=================================================================\n",
      " input_1 (InputLayer)        [(None, 28, 28, 1)]       0         \n",
      "                                                                 \n",
      " conv2d (Conv2D)             (None, 24, 24, 12)        312       \n",
      "                                                                 \n",
      " max_pooling2d (MaxPooling2D  (None, 12, 12, 12)       0         \n",
      " )                                                               \n",
      "                                                                 \n",
      " conv2d_1 (Conv2D)           (None, 9, 9, 12)          2316      \n",
      "                                                                 \n",
      " max_pooling2d_1 (MaxPooling  (None, 4, 4, 12)         0         \n",
      " 2D)                                                             \n",
      "                                                                 \n",
      " conv2d_2 (Conv2D)           (None, 1, 1, 12)          2316      \n",
      "                                                                 \n",
      " flatten (Flatten)           (None, 12)                0         \n",
      "                                                                 \n",
      " dense (Dense)               (None, 10)                130       \n",
      "                                                                 \n",
      " dense_1 (Dense)             (None, 2)                 22        \n",
      "                                                                 \n",
      "=================================================================\n",
      "Total params: 5,096\n",
      "Trainable params: 5,096\n",
      "Non-trainable params: 0\n",
      "_________________________________________________________________\n"
     ]
    }
   ],
   "source": [
    "model: tf.keras.Model\n",
    "if LOAD_MODEL and os.path.exists(MODEL_SAVE_PATH):\n",
    "    # Try to load model directly, if one exists\n",
    "    print(\"LOADING MODEL\")\n",
    "    model = tf.keras.models.load_model(MODEL_SAVE_PATH,compile=False)  # type: ignore\n",
    "else:\n",
    "    # Otherwise, make an entire new model!\n",
    "    print(\"CREATING MODEL\")\n",
    "    model_input_shape = (28,28,1)\n",
    "    model_inputs = model_layer = tf.keras.Input(shape=model_input_shape)\n",
    "    model_layer = tf.keras.layers.Conv2D(12, (5,5), activation=\"relu\")(model_layer)\n",
    "    model_layer = tf.keras.layers.MaxPool2D((2,2))(model_layer)\n",
    "    model_layer = tf.keras.layers.Conv2D(12, (4,4), activation=\"relu\")(model_layer)\n",
    "    model_layer = tf.keras.layers.MaxPool2D((2,2))(model_layer)\n",
    "    model_layer = tf.keras.layers.Conv2D(12, (4,4), activation=\"relu\")(model_layer)\n",
    "    model_layer = tf.keras.layers.Flatten()(model_layer)\n",
    "    model_layer = tf.keras.layers.Dense(10, activation=\"relu\")(model_layer)\n",
    "    model_layer = tf.keras.layers.Dense(len(task_digit_labels))(model_layer)\n",
    "\n",
    "    model = tf.keras.Model(inputs=model_inputs, outputs=model_layer, name=\"model\")\n",
    "\n",
    "if len(task_digit_labels) == 2:\n",
    "    loss_fn = tf.keras.losses.BinaryCrossentropy(from_logits=True)\n",
    "else:\n",
    "    loss_fn = tf.keras.losses.CategoricalCrossentropy(from_logits=True)\n",
    "model.summary()"
   ]
  },
  {
   "cell_type": "code",
   "execution_count": 14,
   "metadata": {},
   "outputs": [
    {
     "data": {
      "image/png": "[encoded data removed]",
      "text/plain": [
       "<Figure size 640x480 with 9 Axes>"
      ]
     },
     "metadata": {},
     "output_type": "display_data"
    }
   ],
   "source": [
    "task = MNISTClassificationTask(\n",
    "        name=f\"Task 0\",\n",
    "        model=model,\n",
    "        model_base_loss=loss_fn,\n",
    "        task_digit_labels=task_digit_labels,\n",
    "        training_batches = training_batches,\n",
    "        validation_batches = validation_batches,\n",
    "        batch_size=batch_size\n",
    "    )\n",
    "task.compile_model(loss_fn)\n",
    "\n",
    "# Show some images from the task dataset\n",
    "batch = task.training_dataset.take(1).get_single_element()\n",
    "images = batch[0][:9]\n",
    "plot_images(images, cmap=\"gray\")"
   ]
  },
  {
   "cell_type": "code",
   "execution_count": 13,
   "metadata": {},
   "outputs": [],
   "source": [
    "if TRAIN_MODEL:\n",
    "    checkpoint_path = MODEL_SAVE_PATH+\"/checkpoint\"\n",
    "    checkpoint_callback = tf.keras.callbacks.ModelCheckpoint(\n",
    "        filepath=checkpoint_path,\n",
    "        verbose=1)\n",
    "\n",
    "    history = task.train_on_task(epochs=epochs, callbacks=[\n",
    "        # checkpoint_callback,\n",
    "    ])\n",
    "    model.save(MODEL_SAVE_PATH)"
   ]
  },
  {
   "cell_type": "code",
   "execution_count": null,
   "metadata": {},
   "outputs": [],
   "source": [
    "kernel_inspection(model=task.model, layer_index=5, steps=1000, step_size=0.05)"
   ]
  },
  {
   "cell_type": "code",
   "execution_count": 12,
   "metadata": {},
   "outputs": [],
   "source": [
    "def occlusion_sensitivity(\n",
    "    model: tf.keras.Model,\n",
    "    data: tf.data.Dataset,\n",
    "    num_items: int,\n",
    "    patch_size: int = 3,\n",
    "    stride: int = 1):\n",
    "    \"\"\"\n",
    "    Compute sensitivity to a series of data points by occluding a section of the image\n",
    "    Occlusion is shifted across the image, with loss being computed at each step\n",
    "\n",
    "    Parameters:\n",
    "        model: tf.keras.Model\n",
    "            The model to test sensitivity of\n",
    "        data: tf.data.Dataset\n",
    "            The data to test over. Should be a subsection of the entire dataset\n",
    "            Use data.take() to get a small subset of data first\n",
    "            Each image is processed, so the size of this dataset is number of images\n",
    "        num_items: int\n",
    "            The number of items to process overall (from the dataset)\n",
    "        patch_size: int\n",
    "            The size of the patch use for occlusion\n",
    "        stride: int\n",
    "            The amount to move the patch between trials\n",
    "            Currently unused (stride = patch_size)\n",
    "    \"\"\"\n",
    "\n",
    "    processed_images = 0\n",
    "\n",
    "    # Loop over each batch in the dataset\n",
    "    for batch in data:\n",
    "        # Pull out the image/label pair from tuple\n",
    "        # Each of these variables have dimension starting with batch_size\n",
    "        # So zip them together to get image, label pairs directly\n",
    "        images = batch[0]\n",
    "        labels = batch[1]\n",
    "        for image, label in zip(images, labels):\n",
    "            # Convert the image to something more... manageable\n",
    "            # Remove first index (added from tf dataset)\n",
    "            # convert to numpy array\n",
    "            image: np.ndarray = np.array(image)  # type: ignore\n",
    "            sensitivity_map = np.zeros((image.shape[0], image.shape[1]))\n",
    "            patched_images = []\n",
    "            # Loop over every possible position of the occulsion square\n",
    "            # note for now the stride is simply the patch size, i.e.\n",
    "            # disjoint patches\n",
    "            for top_left_y in range(0, image.shape[0],patch_size):\n",
    "                for top_left_x in range(0, image.shape[1],patch_size):\n",
    "                    # Copy the original image, apply a square of black over that patch\n",
    "                    patched_image = np.array(image, copy=True)\n",
    "                    patched_image[\n",
    "                        top_left_y:top_left_y+patch_size,\n",
    "                        top_left_x:top_left_x+patch_size, \n",
    "                        : \n",
    "                    ] = 0.0\n",
    "                    # We collect all the patched images together to be processed in a single batch\n",
    "                    patched_images.append(patched_image)\n",
    "            patched_images = np.array(patched_images)\n",
    "            # Note multiplying by label, we are only interested in \n",
    "            # model predicted likelihood of correct class\n",
    "            predictions = model(patched_images) * label\n",
    "            # Loop over predictions and apply confidence to the sensitivity map\n",
    "            prediction_index = 0\n",
    "            for top_left_y in range(0, image.shape[0],patch_size):\n",
    "                for top_left_x in range(0, image.shape[1],patch_size):\n",
    "                    confidence = predictions[prediction_index] \n",
    "                    sensitivity_map[\n",
    "                        top_left_y:top_left_y+patch_size,\n",
    "                        top_left_x:top_left_x+patch_size,\n",
    "                    ] = confidence\n",
    "            # Finally finished with one image! Check if we have met quota\n",
    "            processed_images += 1\n",
    "            if processed_images >= num_items:\n",
    "                break\n",
    "\n",
    "data = task.validation_dataset.take(1)\n",
    "occlusion_sensitivity(task.model,data,num_items=9)"
   ]
  }
 ],
 "metadata": {
  "kernelspec": {
   "display_name": "Python 3.10.6 ('tf')",
   "language": "python",
   "name": "python3"
  },
  "language_info": {
   "codemirror_mode": {
    "name": "ipython",
    "version": 3
   },
   "file_extension": ".py",
   "mimetype": "text/x-python",
   "name": "python",
   "nbconvert_exporter": "python",
   "pygments_lexer": "ipython3",
   "version": "3.10.8"
  },
  "orig_nbformat": 4,
  "vscode": {
   "interpreter": {
    "hash": "24d1b1f2d3141c0ff1635b20953f5ae3bc501888575bad739f03d5f2516fa480"
   }
  }
 },
 "nbformat": 4,
 "nbformat_minor": 2
}
